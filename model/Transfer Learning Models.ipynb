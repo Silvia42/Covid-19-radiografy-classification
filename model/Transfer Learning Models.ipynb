{
 "cells": [
  {
   "cell_type": "code",
   "execution_count": 1,
   "id": "1e640136",
   "metadata": {},
   "outputs": [
    {
     "data": {
      "text/plain": [
       "<AddedDllDirectory('C:/Program Files/NVIDIA GPU Computing Toolkit/CUDA/v11.2/bin')>"
      ]
     },
     "execution_count": 1,
     "metadata": {},
     "output_type": "execute_result"
    }
   ],
   "source": [
    "import os\n",
    "# Add directory for NVIDIA gpu. Ignore if not Windows\n",
    "os.add_dll_directory(\"C:/Program Files/NVIDIA GPU Computing Toolkit/CUDA/v11.2/bin\")"
   ]
  },
  {
   "cell_type": "code",
   "execution_count": 2,
   "id": "0318e036",
   "metadata": {},
   "outputs": [
    {
     "name": "stdout",
     "output_type": "stream",
     "text": [
      "[PhysicalDevice(name='/physical_device:GPU:0', device_type='GPU')]\n"
     ]
    }
   ],
   "source": [
    "import tensorflow as tf\n",
    "# print(tf.reduce_sum(tf.random.normal([1000, 1000])))\n",
    "# Confirm tensorflow running on gpu\n",
    "print(tf.config.list_physical_devices('GPU'))"
   ]
  },
  {
   "cell_type": "code",
   "execution_count": 3,
   "id": "78a06e8b",
   "metadata": {},
   "outputs": [],
   "source": [
    "from tensorflow import keras\n",
    "from tensorflow.keras.utils import image_dataset_from_directory\n",
    "from tensorflow.keras.layers.experimental.preprocessing import Resizing\n",
    "import numpy as np\n",
    "import pickle as pkl"
   ]
  },
  {
   "cell_type": "markdown",
   "id": "3992ac7f",
   "metadata": {},
   "source": [
    "### Base CovNet Model"
   ]
  },
  {
   "cell_type": "code",
   "execution_count": 4,
   "id": "10640390",
   "metadata": {},
   "outputs": [],
   "source": [
    "# function to build the conv net base\n",
    "\n",
    "\n",
    "# complete this function\n",
    "def build_base_convnet_model():\n",
    "    \"\"\"Re-create the model from the first prompt, but with a different input shape\"\"\"\n",
    "    \n",
    "    # Return this variable\n",
    "    model = None\n",
    "    \n",
    "    # YOUR CODE HERE\n",
    "    inputs = keras.Input(shape = (299, 299, 3))\n",
    "    x = keras.layers.Conv2D(filters = 32, kernel_size = 3, activation = 'relu')(inputs)\n",
    "    x = keras.layers.MaxPooling2D(pool_size = 2)(x)\n",
    "    x = keras.layers.Conv2D(filters = 64, kernel_size = 3, activation = 'relu')(x)\n",
    "    x = keras.layers.MaxPooling2D(pool_size = 2)(x)\n",
    "    x = keras.layers.Conv2D(filters = 128, kernel_size = 3, activation = 'relu')(x)\n",
    "    x = keras.layers.Flatten()(x)\n",
    "    outputs = keras.layers.Dense(1, activation = 'sigmoid')(x)\n",
    "\n",
    "    model = keras.Model(inputs, outputs)\n",
    "\n",
    "    model.compile(loss = 'binary_crossentropy', metrics = ['accuracy'])\n",
    "    \n",
    "    return model\n",
    "\n",
    "def load_image_data(base_path: str) -> tuple:\n",
    "    \"\"\"Write a function that accepts a base path that contains all of the directories, and creates training,\n",
    "    validation and test sets\"\"\"\n",
    "    \n",
    "    # Return these variables from the function\n",
    "    train_data = keras.utils.image_dataset_from_directory(f'{base_path}/train', \n",
    "                                                          image_size = (299, 299),\n",
    "                                                          batch_size = 32)\n",
    "\n",
    "    validation_data = keras.utils.image_dataset_from_directory(f'{base_path}/val', \n",
    "                                                          image_size = (299, 299),\n",
    "                                                          batch_size = 32)\n",
    "    \n",
    "    test_data = keras.utils.image_dataset_from_directory(f'{base_path}/test', \n",
    "                                                          image_size = (299, 299),\n",
    "                                                          batch_size = 32)\n",
    "    \n",
    "    # YOUR CODE HERE\n",
    "    \n",
    "    \n",
    "    return train_data, validation_data, test_data\n",
    "\n",
    "def fit_convnet_model(model, train_set, validation_set):\n",
    "    \"\"\"Fit a model with the above stated criteria\"\"\"\n",
    "    early_stopping = keras.callbacks.EarlyStopping(patience = 10)\n",
    "    \n",
    "    # YOUR CODE HERE\n",
    "    model.fit(train_set, \n",
    "              validation_data = validation_set, \n",
    "              callbacks = [early_stopping], \n",
    "              epochs = 500)\n",
    "    \n",
    "    return model"
   ]
  },
  {
   "cell_type": "code",
   "execution_count": 5,
   "id": "1dee887e",
   "metadata": {},
   "outputs": [
    {
     "name": "stdout",
     "output_type": "stream",
     "text": [
      "Found 8284 files belonging to 2 classes.\n",
      "Found 2761 files belonging to 2 classes.\n",
      "Found 2763 files belonging to 2 classes.\n"
     ]
    }
   ],
   "source": [
    "# run this cell to create your base convolution model and training, validation & test sets\n",
    "base_mod = build_base_convnet_model()\n",
    "train_data, validation_data, test_data = load_image_data('../data/COVID-19_Radiography_Dataset/TwoClasses/split')"
   ]
  },
  {
   "cell_type": "code",
   "execution_count": 6,
   "id": "1f09b370",
   "metadata": {},
   "outputs": [
    {
     "name": "stdout",
     "output_type": "stream",
     "text": [
      "Epoch 1/500\n",
      "259/259 [==============================] - 24s 80ms/step - loss: 42.1018 - accuracy: 0.7620 - val_loss: 0.3782 - val_accuracy: 0.8501\n",
      "Epoch 2/500\n",
      "259/259 [==============================] - 20s 77ms/step - loss: 7.2078 - accuracy: 0.8190 - val_loss: 0.6405 - val_accuracy: 0.8711\n",
      "Epoch 3/500\n",
      "259/259 [==============================] - 20s 76ms/step - loss: 6.5819 - accuracy: 0.8557 - val_loss: 2.8765 - val_accuracy: 0.8942\n",
      "Epoch 4/500\n",
      "259/259 [==============================] - 19s 74ms/step - loss: 0.7204 - accuracy: 0.9119 - val_loss: 0.4948 - val_accuracy: 0.8968\n",
      "Epoch 5/500\n",
      "259/259 [==============================] - 19s 74ms/step - loss: 1.5186 - accuracy: 0.9106 - val_loss: 0.6930 - val_accuracy: 0.9040\n",
      "Epoch 6/500\n",
      "259/259 [==============================] - 19s 74ms/step - loss: 0.8187 - accuracy: 0.9306 - val_loss: 1.6029 - val_accuracy: 0.9011\n",
      "Epoch 7/500\n",
      "259/259 [==============================] - 19s 75ms/step - loss: 1.7578 - accuracy: 0.9380 - val_loss: 2.1440 - val_accuracy: 0.9207\n",
      "Epoch 8/500\n",
      "259/259 [==============================] - 20s 75ms/step - loss: 4.1755 - accuracy: 0.9349 - val_loss: 2.7556 - val_accuracy: 0.9152\n",
      "Epoch 9/500\n",
      "259/259 [==============================] - 20s 76ms/step - loss: 5.6989 - accuracy: 0.9423 - val_loss: 5.6509 - val_accuracy: 0.9033\n",
      "Epoch 10/500\n",
      "259/259 [==============================] - 20s 77ms/step - loss: 1.0871 - accuracy: 0.9582 - val_loss: 63.3852 - val_accuracy: 0.7577\n",
      "Epoch 11/500\n",
      "259/259 [==============================] - 20s 78ms/step - loss: 2.4322 - accuracy: 0.9581 - val_loss: 4.7542 - val_accuracy: 0.9297\n"
     ]
    }
   ],
   "source": [
    "fitted_model = fit_convnet_model(base_mod, train_data, validation_data)"
   ]
  },
  {
   "cell_type": "markdown",
   "id": "234e5f16",
   "metadata": {},
   "source": [
    "### Inception V3 Model\n",
    "\n"
   ]
  },
  {
   "cell_type": "code",
   "execution_count": 7,
   "id": "2f3f9f68",
   "metadata": {},
   "outputs": [],
   "source": [
    "from keras.applications import InceptionV3"
   ]
  },
  {
   "cell_type": "code",
   "execution_count": 8,
   "id": "f2bc3005",
   "metadata": {},
   "outputs": [],
   "source": [
    "def build_transfer_learning_model():\n",
    "    \n",
    "    # return this variable\n",
    "    model = None\n",
    "\n",
    "    model_input = keras.Input(shape = (299, 299, 3))\n",
    "    \n",
    "    base_model = InceptionV3(input_shape = (299, 299, 3), weights='imagenet', include_top=False)\n",
    "\n",
    "    # make the weights in the base model non-trainable\n",
    "    for layer in base_model.layers:\n",
    "      layer.trainable = False\n",
    "\n",
    "    # combine the base model with a dense layer and output layer for the 10 classes\n",
    "    # the preprocess_input transforms input data according to how the model was trained\n",
    "    \n",
    "    x = keras.applications.inception_v3.preprocess_input(model_input)\n",
    "    x = base_model(x)\n",
    "    x = keras.layers.Flatten()(x)\n",
    "    x = keras.layers.Dense(256, activation = 'relu')(x)\n",
    "    x = keras.layers.Dropout(0.5)(x)\n",
    "    output = keras.layers.Dense(1, activation = 'sigmoid')(x)\n",
    "\n",
    "    model = keras.Model(model_input, output)\n",
    "\n",
    "    model.compile(loss = 'binary_crossentropy', metrics = ['accuracy'])\n",
    "    \n",
    "    return model"
   ]
  },
  {
   "cell_type": "code",
   "execution_count": 9,
   "id": "4f6e18b8",
   "metadata": {},
   "outputs": [],
   "source": [
    "transfer_learning_mod = build_transfer_learning_model()"
   ]
  },
  {
   "cell_type": "code",
   "execution_count": 10,
   "id": "a4c0ffde",
   "metadata": {},
   "outputs": [
    {
     "name": "stdout",
     "output_type": "stream",
     "text": [
      "Epoch 1/500\n",
      "259/259 [==============================] - 33s 113ms/step - loss: 4.0256 - accuracy: 0.8382 - val_loss: 0.1936 - val_accuracy: 0.9355\n",
      "Epoch 2/500\n",
      "259/259 [==============================] - 28s 107ms/step - loss: 0.4628 - accuracy: 0.9013 - val_loss: 2.3969 - val_accuracy: 0.5538\n",
      "Epoch 3/500\n",
      "259/259 [==============================] - 28s 107ms/step - loss: 0.3539 - accuracy: 0.9190 - val_loss: 0.1908 - val_accuracy: 0.9475\n",
      "Epoch 4/500\n",
      "259/259 [==============================] - 28s 107ms/step - loss: 0.2232 - accuracy: 0.9405 - val_loss: 0.1489 - val_accuracy: 0.9602\n",
      "Epoch 5/500\n",
      "259/259 [==============================] - 28s 108ms/step - loss: 0.1684 - accuracy: 0.9512 - val_loss: 0.1954 - val_accuracy: 0.9598\n",
      "Epoch 6/500\n",
      "259/259 [==============================] - 28s 108ms/step - loss: 0.1816 - accuracy: 0.9499 - val_loss: 0.1767 - val_accuracy: 0.9602\n",
      "Epoch 7/500\n",
      "259/259 [==============================] - 28s 108ms/step - loss: 0.1406 - accuracy: 0.9614 - val_loss: 0.2996 - val_accuracy: 0.9406\n",
      "Epoch 8/500\n",
      "259/259 [==============================] - 28s 108ms/step - loss: 0.1384 - accuracy: 0.9646 - val_loss: 0.1739 - val_accuracy: 0.9649\n",
      "Epoch 9/500\n",
      "259/259 [==============================] - 28s 108ms/step - loss: 0.1086 - accuracy: 0.9670 - val_loss: 0.2000 - val_accuracy: 0.9623\n",
      "Epoch 10/500\n",
      "259/259 [==============================] - 28s 108ms/step - loss: 0.0980 - accuracy: 0.9713 - val_loss: 0.2558 - val_accuracy: 0.9638\n",
      "Epoch 11/500\n",
      "259/259 [==============================] - 28s 109ms/step - loss: 0.1114 - accuracy: 0.9731 - val_loss: 0.2035 - val_accuracy: 0.9667\n",
      "Epoch 12/500\n",
      "259/259 [==============================] - 28s 109ms/step - loss: 0.0925 - accuracy: 0.9753 - val_loss: 0.2128 - val_accuracy: 0.9612\n",
      "Epoch 13/500\n",
      "259/259 [==============================] - 27s 106ms/step - loss: 0.1213 - accuracy: 0.9724 - val_loss: 0.2460 - val_accuracy: 0.9562\n",
      "Epoch 14/500\n",
      "259/259 [==============================] - 27s 105ms/step - loss: 0.0817 - accuracy: 0.9767 - val_loss: 0.2511 - val_accuracy: 0.9696\n"
     ]
    }
   ],
   "source": [
    "inception_model = fit_convnet_model(transfer_learning_mod, train_data, validation_data)"
   ]
  },
  {
   "cell_type": "markdown",
   "id": "2be5ae8e",
   "metadata": {},
   "source": [
    "### ResNet Model"
   ]
  },
  {
   "cell_type": "code",
   "execution_count": 11,
   "id": "e9c1e237",
   "metadata": {},
   "outputs": [],
   "source": [
    "from keras.applications import ResNet50"
   ]
  },
  {
   "cell_type": "code",
   "execution_count": 12,
   "id": "6cd2d194",
   "metadata": {},
   "outputs": [],
   "source": [
    "def build_transfer_learning_model():\n",
    "    \n",
    "    # return this variable\n",
    "    model = None\n",
    "\n",
    "    model_input = keras.Input(shape = (299, 299, 3))\n",
    "    \n",
    "    base_model = ResNet50(input_shape = (299, 299, 3), weights='imagenet', include_top=False)\n",
    "\n",
    "    # make the weights in the base model non-trainable\n",
    "    for layer in base_model.layers:\n",
    "      layer.trainable = False\n",
    "\n",
    "    # combine the base model with a dense layer and output layer for the 10 classes\n",
    "    # the preprocess_input transforms input data according to how the model was trained\n",
    "    \n",
    "    x = keras.applications.resnet50.preprocess_input(model_input)\n",
    "    x = base_model(x)\n",
    "    x = keras.layers.Flatten()(x)\n",
    "    x = keras.layers.Dense(256, activation = 'relu')(x)\n",
    "    x = keras.layers.Dropout(0.5)(x)\n",
    "    output = keras.layers.Dense(1, activation = 'sigmoid')(x)\n",
    "\n",
    "    model = keras.Model(model_input, output)\n",
    "\n",
    "    model.compile(loss = 'binary_crossentropy', metrics = ['accuracy'])\n",
    "    \n",
    "    return model"
   ]
  },
  {
   "cell_type": "code",
   "execution_count": 13,
   "id": "0db51ddd",
   "metadata": {},
   "outputs": [],
   "source": [
    "transfer_learning_mod = build_transfer_learning_model()"
   ]
  },
  {
   "cell_type": "code",
   "execution_count": 14,
   "id": "be995ac2",
   "metadata": {
    "scrolled": true
   },
   "outputs": [
    {
     "name": "stdout",
     "output_type": "stream",
     "text": [
      "Epoch 1/500\n",
      "259/259 [==============================] - 30s 107ms/step - loss: 6.0776 - accuracy: 0.8903 - val_loss: 0.1428 - val_accuracy: 0.9587\n",
      "Epoch 2/500\n",
      "259/259 [==============================] - 27s 104ms/step - loss: 0.4645 - accuracy: 0.9411 - val_loss: 0.2157 - val_accuracy: 0.9663\n",
      "Epoch 3/500\n",
      "259/259 [==============================] - 27s 105ms/step - loss: 0.2492 - accuracy: 0.9633 - val_loss: 0.2103 - val_accuracy: 0.9761\n",
      "Epoch 4/500\n",
      "259/259 [==============================] - 28s 107ms/step - loss: 0.1875 - accuracy: 0.9725 - val_loss: 0.1552 - val_accuracy: 0.9732\n",
      "Epoch 5/500\n",
      "259/259 [==============================] - 28s 107ms/step - loss: 0.1555 - accuracy: 0.9768 - val_loss: 0.1160 - val_accuracy: 0.9801\n",
      "Epoch 6/500\n",
      "259/259 [==============================] - 28s 108ms/step - loss: 0.1292 - accuracy: 0.9772 - val_loss: 0.1637 - val_accuracy: 0.9761\n",
      "Epoch 7/500\n",
      "259/259 [==============================] - 27s 104ms/step - loss: 0.1498 - accuracy: 0.9820 - val_loss: 0.1776 - val_accuracy: 0.9801\n",
      "Epoch 8/500\n",
      "259/259 [==============================] - 27s 105ms/step - loss: 0.1013 - accuracy: 0.9854 - val_loss: 0.2345 - val_accuracy: 0.9765\n",
      "Epoch 9/500\n",
      "259/259 [==============================] - 27s 104ms/step - loss: 0.0846 - accuracy: 0.9861 - val_loss: 0.2208 - val_accuracy: 0.9819\n",
      "Epoch 10/500\n",
      "259/259 [==============================] - 27s 105ms/step - loss: 0.0858 - accuracy: 0.9884 - val_loss: 0.2549 - val_accuracy: 0.9797\n",
      "Epoch 11/500\n",
      "259/259 [==============================] - 27s 105ms/step - loss: 0.0597 - accuracy: 0.9920 - val_loss: 0.2057 - val_accuracy: 0.9852\n",
      "Epoch 12/500\n",
      "259/259 [==============================] - 27s 104ms/step - loss: 0.0492 - accuracy: 0.9917 - val_loss: 0.3793 - val_accuracy: 0.9779\n",
      "Epoch 13/500\n",
      "259/259 [==============================] - 27s 106ms/step - loss: 0.0635 - accuracy: 0.9917 - val_loss: 0.3108 - val_accuracy: 0.9812\n",
      "Epoch 14/500\n",
      "259/259 [==============================] - 27s 104ms/step - loss: 0.0675 - accuracy: 0.9908 - val_loss: 0.2839 - val_accuracy: 0.9841\n",
      "Epoch 15/500\n",
      "259/259 [==============================] - 27s 104ms/step - loss: 0.0547 - accuracy: 0.9922 - val_loss: 0.2062 - val_accuracy: 0.9826\n"
     ]
    }
   ],
   "source": [
    "resnet_model = fit_convnet_model(transfer_learning_mod, train_data, validation_data)"
   ]
  },
  {
   "cell_type": "code",
   "execution_count": 16,
   "id": "d10a6a37",
   "metadata": {},
   "outputs": [
    {
     "name": "stdout",
     "output_type": "stream",
     "text": [
      "87/87 [==============================] - 7s 81ms/step - loss: 0.1167 - accuracy: 0.9855\n"
     ]
    }
   ],
   "source": [
    "results = resnet_model.evaluate(test_data)"
   ]
  },
  {
   "cell_type": "code",
   "execution_count": 21,
   "id": "60cb16ca",
   "metadata": {},
   "outputs": [
    {
     "name": "stdout",
     "output_type": "stream",
     "text": [
      "87/87 [==============================] - 6s 72ms/step\n"
     ]
    },
    {
     "data": {
      "text/plain": [
       "array([[1.5282857e-02],\n",
       "       [6.0850080e-15],\n",
       "       [1.0000000e+00],\n",
       "       ...,\n",
       "       [1.0000000e+00],\n",
       "       [1.0000000e+00],\n",
       "       [1.0000000e+00]], dtype=float32)"
      ]
     },
     "execution_count": 21,
     "metadata": {},
     "output_type": "execute_result"
    }
   ],
   "source": [
    "predictions = resnet_model.predict(test_data)\n",
    "predictions"
   ]
  },
  {
   "cell_type": "code",
   "execution_count": 22,
   "id": "8a976382",
   "metadata": {},
   "outputs": [
    {
     "name": "stdout",
     "output_type": "stream",
     "text": [
      "predictions shape: (2763, 1)\n"
     ]
    }
   ],
   "source": [
    "print(\"predictions shape:\", predictions.shape)"
   ]
  },
  {
   "cell_type": "code",
   "execution_count": 23,
   "id": "6f238966",
   "metadata": {},
   "outputs": [
    {
     "data": {
      "text/plain": [
       "{'loss': array([0.01528286], dtype=float32),\n",
       " 'accuracy': array([6.085008e-15], dtype=float32)}"
      ]
     },
     "execution_count": 23,
     "metadata": {},
     "output_type": "execute_result"
    }
   ],
   "source": [
    "dict(zip(resnet_model.metrics_names, predictions))"
   ]
  },
  {
   "cell_type": "code",
   "execution_count": 34,
   "id": "3dbd8987",
   "metadata": {},
   "outputs": [],
   "source": [
    "# Concatenate train and validation data\n",
    "fulltrain = train_data.concatenate(validation_data)"
   ]
  },
  {
   "cell_type": "code",
   "execution_count": 46,
   "id": "b723de92",
   "metadata": {},
   "outputs": [
    {
     "name": "stdout",
     "output_type": "stream",
     "text": [
      "346/346 [==============================] - 34s 96ms/step - loss: 0.1159 - accuracy: 0.9858\n"
     ]
    }
   ],
   "source": [
    "# Fit the model on 80% data\n",
    "final_model = resnet_model.fit(fulltrain)"
   ]
  },
  {
   "cell_type": "code",
   "execution_count": 47,
   "id": "5377df29",
   "metadata": {
    "scrolled": true
   },
   "outputs": [
    {
     "name": "stderr",
     "output_type": "stream",
     "text": [
      "WARNING:absl:Found untraced functions such as _jit_compiled_convolution_op, _jit_compiled_convolution_op, _jit_compiled_convolution_op, _jit_compiled_convolution_op, _jit_compiled_convolution_op while saving (showing 5 of 53). These functions will not be directly callable after loading.\n"
     ]
    },
    {
     "name": "stdout",
     "output_type": "stream",
     "text": [
      "INFO:tensorflow:Assets written to: ram://c55152d2-46be-480b-a928-869a96420939/assets\n"
     ]
    },
    {
     "name": "stderr",
     "output_type": "stream",
     "text": [
      "INFO:tensorflow:Assets written to: ram://c55152d2-46be-480b-a928-869a96420939/assets\n"
     ]
    }
   ],
   "source": [
    "filename = 'final_model.pkl'\n",
    "pkl.dump(final_model, open(filename, 'wb'))"
   ]
  },
  {
   "cell_type": "code",
   "execution_count": 50,
   "id": "115a35a8",
   "metadata": {},
   "outputs": [
    {
     "name": "stderr",
     "output_type": "stream",
     "text": [
      "WARNING:absl:Found untraced functions such as _jit_compiled_convolution_op, _jit_compiled_convolution_op, _jit_compiled_convolution_op, _jit_compiled_convolution_op, _jit_compiled_convolution_op while saving (showing 5 of 53). These functions will not be directly callable after loading.\n"
     ]
    },
    {
     "name": "stdout",
     "output_type": "stream",
     "text": [
      "INFO:tensorflow:Assets written to: ram://c2d9292f-ef84-4408-a68d-fac8ecc8c9f3/assets\n"
     ]
    },
    {
     "name": "stderr",
     "output_type": "stream",
     "text": [
      "INFO:tensorflow:Assets written to: ram://c2d9292f-ef84-4408-a68d-fac8ecc8c9f3/assets\n"
     ]
    },
    {
     "data": {
      "text/plain": [
       "['final_model.pkl']"
      ]
     },
     "execution_count": 50,
     "metadata": {},
     "output_type": "execute_result"
    }
   ],
   "source": [
    "import joblib\n",
    "filename = 'final_model.pkl'\n",
    "joblib.dump(final_model, filename)"
   ]
  },
  {
   "cell_type": "code",
   "execution_count": null,
   "id": "82a33b8e",
   "metadata": {},
   "outputs": [],
   "source": []
  }
 ],
 "metadata": {
  "kernelspec": {
   "display_name": "tf_gpu",
   "language": "python",
   "name": "tf_gpu"
  },
  "language_info": {
   "codemirror_mode": {
    "name": "ipython",
    "version": 3
   },
   "file_extension": ".py",
   "mimetype": "text/x-python",
   "name": "python",
   "nbconvert_exporter": "python",
   "pygments_lexer": "ipython3",
   "version": "3.9.15"
  }
 },
 "nbformat": 4,
 "nbformat_minor": 5
}
