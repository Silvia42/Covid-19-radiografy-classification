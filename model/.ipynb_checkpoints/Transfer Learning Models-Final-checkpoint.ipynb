{
 "cells": [
  {
   "cell_type": "code",
   "execution_count": 1,
   "id": "1e640136",
   "metadata": {},
   "outputs": [
    {
     "data": {
      "text/plain": [
       "<AddedDllDirectory('C:/Program Files/NVIDIA GPU Computing Toolkit/CUDA/v11.2/bin')>"
      ]
     },
     "execution_count": 1,
     "metadata": {},
     "output_type": "execute_result"
    }
   ],
   "source": [
    "import os\n",
    "# Add directory for NVIDIA gpu. Ignore if not Windows\n",
    "os.add_dll_directory(\"C:/Program Files/NVIDIA GPU Computing Toolkit/CUDA/v11.2/bin\")"
   ]
  },
  {
   "cell_type": "code",
   "execution_count": 2,
   "id": "0318e036",
   "metadata": {},
   "outputs": [
    {
     "name": "stdout",
     "output_type": "stream",
     "text": [
      "[PhysicalDevice(name='/physical_device:GPU:0', device_type='GPU')]\n"
     ]
    }
   ],
   "source": [
    "import tensorflow as tf\n",
    "# print(tf.reduce_sum(tf.random.normal([1000, 1000])))\n",
    "# Confirm tensorflow running on gpu\n",
    "print(tf.config.list_physical_devices('GPU'))"
   ]
  },
  {
   "cell_type": "code",
   "execution_count": 3,
   "id": "78a06e8b",
   "metadata": {},
   "outputs": [],
   "source": [
    "from tensorflow import keras\n",
    "from tensorflow.keras.utils import image_dataset_from_directory\n",
    "from tensorflow.keras.layers.experimental.preprocessing import Resizing\n",
    "from sklearn.metrics import confusion_matrix, classification_report\n",
    "import matplotlib.pyplot as plt\n",
    "import seaborn as sns\n",
    "import numpy as np\n",
    "import pickle as pkl"
   ]
  },
  {
   "cell_type": "markdown",
   "id": "3992ac7f",
   "metadata": {},
   "source": [
    "### Base CovNet Model"
   ]
  },
  {
   "cell_type": "code",
   "execution_count": 4,
   "id": "10640390",
   "metadata": {},
   "outputs": [],
   "source": [
    "# function to build the conv net base\n",
    "\n",
    "\n",
    "# complete this function\n",
    "def build_base_convnet_model():\n",
    "    \"\"\"Re-create the model from the first prompt, but with a different input shape\"\"\"\n",
    "    \n",
    "    # Return this variable\n",
    "    model = None\n",
    "    \n",
    "    # YOUR CODE HERE\n",
    "    inputs = keras.Input(shape = (299, 299, 3))\n",
    "    x = keras.layers.Conv2D(filters = 32, kernel_size = 3, activation = 'relu')(inputs)\n",
    "    x = keras.layers.MaxPooling2D(pool_size = 2)(x)\n",
    "    x = keras.layers.Conv2D(filters = 64, kernel_size = 3, activation = 'relu')(x)\n",
    "    x = keras.layers.MaxPooling2D(pool_size = 2)(x)\n",
    "    x = keras.layers.Conv2D(filters = 128, kernel_size = 3, activation = 'relu')(x)\n",
    "    x = keras.layers.Flatten()(x)\n",
    "    outputs = keras.layers.Dense(1, activation = 'sigmoid')(x)\n",
    "\n",
    "    model = keras.Model(inputs, outputs)\n",
    "\n",
    "    model.compile(loss = 'binary_crossentropy', metrics = ['accuracy'])\n",
    "    \n",
    "    return model\n",
    "\n",
    "def load_image_data(base_path: str) -> tuple:\n",
    "    \"\"\"Write a function that accepts a base path that contains all of the directories, and creates training,\n",
    "    validation and test sets\"\"\"\n",
    "    \n",
    "    # Return these variables from the function\n",
    "    train_data = keras.utils.image_dataset_from_directory(f'{base_path}/train', \n",
    "                                                          image_size = (299, 299),\n",
    "                                                          batch_size = 64)\n",
    "\n",
    "    validation_data = keras.utils.image_dataset_from_directory(f'{base_path}/val', \n",
    "                                                          image_size = (299, 299),\n",
    "                                                          batch_size = 64)\n",
    "    \n",
    "    test_data = keras.utils.image_dataset_from_directory(f'{base_path}/test', \n",
    "                                                          image_size = (299, 299),\n",
    "                                                          batch_size = 64)\n",
    "    \n",
    "    # YOUR CODE HERE\n",
    "    \n",
    "    \n",
    "    return train_data, validation_data, test_data\n",
    "\n",
    "def fit_model(model, train_set, validation_set):\n",
    "    \"\"\"Fit a model with the above stated criteria\"\"\"\n",
    "    early_stopping = keras.callbacks.EarlyStopping(patience = 10)\n",
    "    \n",
    "    # YOUR CODE HERE\n",
    "    model.fit(train_set, \n",
    "              validation_data = validation_set, \n",
    "              callbacks = [early_stopping], \n",
    "              epochs = 500)\n",
    "    \n",
    "    return model"
   ]
  },
  {
   "cell_type": "code",
   "execution_count": 5,
   "id": "1dee887e",
   "metadata": {},
   "outputs": [
    {
     "name": "stdout",
     "output_type": "stream",
     "text": [
      "Found 8284 files belonging to 2 classes.\n",
      "Found 2761 files belonging to 2 classes.\n",
      "Found 2763 files belonging to 2 classes.\n"
     ]
    }
   ],
   "source": [
    "# run this cell to create your base convolution model and training, validation & test sets\n",
    "base_mod = build_base_convnet_model()\n",
    "train_data, validation_data, test_data = load_image_data('../data/COVID-19_Radiography_Dataset/TwoClasses/split')"
   ]
  },
  {
   "cell_type": "code",
   "execution_count": 6,
   "id": "1f09b370",
   "metadata": {
    "scrolled": true
   },
   "outputs": [
    {
     "name": "stdout",
     "output_type": "stream",
     "text": [
      "Epoch 1/500\n",
      "130/130 [==============================] - 24s 153ms/step - loss: 34.1687 - accuracy: 0.7413 - val_loss: 1.0232 - val_accuracy: 0.8301\n",
      "Epoch 2/500\n",
      "130/130 [==============================] - 19s 144ms/step - loss: 6.9215 - accuracy: 0.8048 - val_loss: 13.4484 - val_accuracy: 0.7794\n",
      "Epoch 3/500\n",
      "130/130 [==============================] - 19s 143ms/step - loss: 3.1024 - accuracy: 0.8495 - val_loss: 0.5383 - val_accuracy: 0.8906\n",
      "Epoch 4/500\n",
      "130/130 [==============================] - 19s 142ms/step - loss: 3.6537 - accuracy: 0.8981 - val_loss: 0.3299 - val_accuracy: 0.9105\n",
      "Epoch 5/500\n",
      "130/130 [==============================] - 19s 142ms/step - loss: 6.4534 - accuracy: 0.8957 - val_loss: 14.3992 - val_accuracy: 0.7765\n",
      "Epoch 6/500\n",
      "130/130 [==============================] - 19s 144ms/step - loss: 1.3093 - accuracy: 0.9221 - val_loss: 5.1274 - val_accuracy: 0.6936\n",
      "Epoch 7/500\n",
      "130/130 [==============================] - 19s 144ms/step - loss: 10.0953 - accuracy: 0.9064 - val_loss: 1.5934 - val_accuracy: 0.9156\n",
      "Epoch 8/500\n",
      "130/130 [==============================] - 19s 143ms/step - loss: 1.1872 - accuracy: 0.9482 - val_loss: 0.9355 - val_accuracy: 0.9069\n",
      "Epoch 9/500\n",
      "130/130 [==============================] - 19s 143ms/step - loss: 1.7022 - accuracy: 0.9351 - val_loss: 1.6999 - val_accuracy: 0.9214\n",
      "Epoch 10/500\n",
      "130/130 [==============================] - 19s 143ms/step - loss: 6.9741 - accuracy: 0.9326 - val_loss: 4.0953 - val_accuracy: 0.9015\n",
      "Epoch 11/500\n",
      "130/130 [==============================] - 19s 144ms/step - loss: 10.5304 - accuracy: 0.9456 - val_loss: 4.5619 - val_accuracy: 0.8783\n",
      "Epoch 12/500\n",
      "130/130 [==============================] - 19s 144ms/step - loss: 8.3996 - accuracy: 0.9440 - val_loss: 17.0862 - val_accuracy: 0.9084\n",
      "Epoch 13/500\n",
      "130/130 [==============================] - 19s 145ms/step - loss: 2.0997 - accuracy: 0.9580 - val_loss: 3.7626 - val_accuracy: 0.9149\n",
      "Epoch 14/500\n",
      "130/130 [==============================] - 19s 144ms/step - loss: 13.6591 - accuracy: 0.9495 - val_loss: 14.6335 - val_accuracy: 0.8515\n"
     ]
    }
   ],
   "source": [
    "fitted_model = fit_model(base_mod, train_data, validation_data)"
   ]
  },
  {
   "cell_type": "code",
   "execution_count": 7,
   "id": "2a9c9980",
   "metadata": {},
   "outputs": [
    {
     "name": "stdout",
     "output_type": "stream",
     "text": [
      "44/44 [==============================] - 3s 71ms/step\n"
     ]
    },
    {
     "data": {
      "text/plain": [
       "array([[ 106,  618],\n",
       "       [ 293, 1746]], dtype=int64)"
      ]
     },
     "execution_count": 7,
     "metadata": {},
     "output_type": "execute_result"
    }
   ],
   "source": [
    "# Create test labels from image_dataset\n",
    "test_labels = np.concatenate([y for x, y in test_data], axis=0)\n",
    "\n",
    "# Flatten function needed to flatten nested lists from predictions\n",
    "def flatten(l):\n",
    "    return [item for sublist in l for item in sublist]\n",
    "\n",
    "# Some predictions are not correctly labeled as 1,0\n",
    "predictions = np.where(fitted_model.predict(test_data) > 0.5, 1, 0)\n",
    "predictions\n",
    "\n",
    "y_preds = flatten(predictions)\n",
    "\n",
    "cm = confusion_matrix(test_labels, y_preds)\n",
    "cm"
   ]
  },
  {
   "cell_type": "code",
   "execution_count": 8,
   "id": "2f71fbfa",
   "metadata": {},
   "outputs": [
    {
     "name": "stdout",
     "output_type": "stream",
     "text": [
      "                  precision    recall  f1-score   support\n",
      "\n",
      " Covid (Class 0)       0.27      0.15      0.19       724\n",
      "Normal (Class 1)       0.74      0.86      0.79      2039\n",
      "\n",
      "        accuracy                           0.67      2763\n",
      "       macro avg       0.50      0.50      0.49      2763\n",
      "    weighted avg       0.61      0.67      0.63      2763\n",
      "\n"
     ]
    }
   ],
   "source": [
    "target_names = ['Covid (Class 0)', 'Normal (Class 1)']\n",
    "print(classification_report(test_labels, y_preds, target_names = target_names))"
   ]
  },
  {
   "cell_type": "markdown",
   "id": "234e5f16",
   "metadata": {},
   "source": [
    "### Inception V3 Model\n",
    "\n"
   ]
  },
  {
   "cell_type": "code",
   "execution_count": 9,
   "id": "2f3f9f68",
   "metadata": {},
   "outputs": [],
   "source": [
    "from keras.applications import InceptionV3"
   ]
  },
  {
   "cell_type": "code",
   "execution_count": 10,
   "id": "f2bc3005",
   "metadata": {},
   "outputs": [],
   "source": [
    "def build_transfer_learning_model():\n",
    "    \n",
    "    # return this variable\n",
    "    model = None\n",
    "\n",
    "    model_input = keras.Input(shape = (299, 299, 3))\n",
    "    \n",
    "    base_model = InceptionV3(input_shape = (299, 299, 3), weights='imagenet', include_top=False)\n",
    "\n",
    "    # make the weights in the base model non-trainable\n",
    "    for layer in base_model.layers:\n",
    "      layer.trainable = False\n",
    "\n",
    "    # combine the base model with a dense layer and output layer for the 10 classes\n",
    "    # the preprocess_input transforms input data according to how the model was trained\n",
    "    \n",
    "    x = keras.applications.inception_v3.preprocess_input(model_input)\n",
    "    x = base_model(x)\n",
    "    x = keras.layers.Flatten()(x)\n",
    "    x = keras.layers.Dense(256, activation = 'relu')(x)\n",
    "    x = keras.layers.Dropout(0.5)(x)\n",
    "    output = keras.layers.Dense(1, activation = 'sigmoid')(x)\n",
    "\n",
    "    model = keras.Model(model_input, output)\n",
    "\n",
    "    model.compile(loss = 'binary_crossentropy', metrics = ['accuracy'])\n",
    "    \n",
    "    return model"
   ]
  },
  {
   "cell_type": "code",
   "execution_count": 11,
   "id": "4f6e18b8",
   "metadata": {},
   "outputs": [],
   "source": [
    "transfer_learning_mod = build_transfer_learning_model()"
   ]
  },
  {
   "cell_type": "code",
   "execution_count": 12,
   "id": "a4c0ffde",
   "metadata": {},
   "outputs": [
    {
     "name": "stdout",
     "output_type": "stream",
     "text": [
      "Epoch 1/500\n",
      "130/130 [==============================] - 29s 199ms/step - loss: 6.6983 - accuracy: 0.8065 - val_loss: 0.2947 - val_accuracy: 0.8653\n",
      "Epoch 2/500\n",
      "130/130 [==============================] - 25s 190ms/step - loss: 0.5314 - accuracy: 0.8681 - val_loss: 0.1866 - val_accuracy: 0.9406\n",
      "Epoch 3/500\n",
      "130/130 [==============================] - 25s 190ms/step - loss: 0.4108 - accuracy: 0.9037 - val_loss: 0.1412 - val_accuracy: 0.9515\n",
      "Epoch 4/500\n",
      "130/130 [==============================] - 25s 190ms/step - loss: 0.2578 - accuracy: 0.9270 - val_loss: 0.1602 - val_accuracy: 0.9526\n",
      "Epoch 5/500\n",
      "130/130 [==============================] - 25s 189ms/step - loss: 0.2170 - accuracy: 0.9375 - val_loss: 0.3317 - val_accuracy: 0.9279\n",
      "Epoch 6/500\n",
      "130/130 [==============================] - 25s 189ms/step - loss: 0.1834 - accuracy: 0.9444 - val_loss: 0.1363 - val_accuracy: 0.9602\n",
      "Epoch 7/500\n",
      "130/130 [==============================] - 25s 190ms/step - loss: 0.1759 - accuracy: 0.9480 - val_loss: 0.1851 - val_accuracy: 0.9547\n",
      "Epoch 8/500\n",
      "130/130 [==============================] - 25s 190ms/step - loss: 0.1509 - accuracy: 0.9564 - val_loss: 0.1686 - val_accuracy: 0.9526\n",
      "Epoch 9/500\n",
      "130/130 [==============================] - 25s 190ms/step - loss: 0.1054 - accuracy: 0.9648 - val_loss: 0.1598 - val_accuracy: 0.9602\n",
      "Epoch 10/500\n",
      "130/130 [==============================] - 25s 190ms/step - loss: 0.0935 - accuracy: 0.9680 - val_loss: 0.1856 - val_accuracy: 0.9656\n",
      "Epoch 11/500\n",
      "130/130 [==============================] - 25s 190ms/step - loss: 0.0902 - accuracy: 0.9707 - val_loss: 0.1746 - val_accuracy: 0.9627\n",
      "Epoch 12/500\n",
      "130/130 [==============================] - 25s 191ms/step - loss: 0.0749 - accuracy: 0.9738 - val_loss: 0.1732 - val_accuracy: 0.9707\n",
      "Epoch 13/500\n",
      "130/130 [==============================] - 25s 190ms/step - loss: 0.0850 - accuracy: 0.9754 - val_loss: 0.2290 - val_accuracy: 0.9468\n",
      "Epoch 14/500\n",
      "130/130 [==============================] - 25s 190ms/step - loss: 0.0587 - accuracy: 0.9789 - val_loss: 0.1669 - val_accuracy: 0.9707\n",
      "Epoch 15/500\n",
      "130/130 [==============================] - 25s 190ms/step - loss: 0.0668 - accuracy: 0.9788 - val_loss: 0.1851 - val_accuracy: 0.9678\n",
      "Epoch 16/500\n",
      "130/130 [==============================] - 25s 190ms/step - loss: 0.0978 - accuracy: 0.9800 - val_loss: 0.2318 - val_accuracy: 0.9674\n"
     ]
    }
   ],
   "source": [
    "inception_model = fit_model(transfer_learning_mod, train_data, validation_data)"
   ]
  },
  {
   "cell_type": "code",
   "execution_count": 13,
   "id": "553fcf44",
   "metadata": {},
   "outputs": [
    {
     "name": "stdout",
     "output_type": "stream",
     "text": [
      "44/44 [==============================] - 6s 136ms/step - loss: 0.1788 - accuracy: 0.9696\n"
     ]
    }
   ],
   "source": [
    "inc_results = inception_model.evaluate(test_data)"
   ]
  },
  {
   "cell_type": "code",
   "execution_count": 14,
   "id": "d2843cac",
   "metadata": {},
   "outputs": [
    {
     "name": "stdout",
     "output_type": "stream",
     "text": [
      "44/44 [==============================] - 3s 70ms/step\n"
     ]
    },
    {
     "data": {
      "text/plain": [
       "<AxesSubplot: >"
      ]
     },
     "execution_count": 14,
     "metadata": {},
     "output_type": "execute_result"
    },
    {
     "data": {
      "image/png": "[encoded data removed]",
      "text/plain": [
       "<Figure size 432x288 with 2 Axes>"
      ]
     },
     "metadata": {
      "needs_background": "light"
     },
     "output_type": "display_data"
    }
   ],
   "source": [
    "# Create test labels from image_dataset\n",
    "test_labels = np.concatenate([y for x, y in test_data], axis=0)\n",
    "\n",
    "# Flatten function needed to flatten nested lists from predictions\n",
    "def flatten(l):\n",
    "    return [item for sublist in l for item in sublist]\n",
    "\n",
    "# Some predictions are not correctly labeled as 1,0\n",
    "predictions = np.where(fitted_model.predict(test_data) > 0.5, 1, 0)\n",
    "predictions\n",
    "\n",
    "y_preds = flatten(predictions)\n",
    "\n",
    "cm = confusion_matrix(test_labels, y_preds)\n",
    "heatmap1 = sns.heatmap(cm, annot = True, cmap='Blues', fmt='.4g', xticklabels=target_names, yticklabels=target_names)\n",
    "heatmap1.set_xlabel('Predicted Labels', fontsize=10)\n",
    "heatmap1.set_ylabel('True Labels', fontsize=10)\n",
    "heatmap1\n",
    "# heatmap1.get_figure().savefig(\"../graphs/heatmap1.png\", facecolor='w')"
   ]
  },
  {
   "cell_type": "code",
   "execution_count": 15,
   "id": "7a47e89c",
   "metadata": {},
   "outputs": [
    {
     "name": "stdout",
     "output_type": "stream",
     "text": [
      "                  precision    recall  f1-score   support\n",
      "\n",
      " Covid (Class 0)       0.24      0.13      0.17       724\n",
      "Normal (Class 1)       0.73      0.85      0.79      2039\n",
      "\n",
      "        accuracy                           0.66      2763\n",
      "       macro avg       0.49      0.49      0.48      2763\n",
      "    weighted avg       0.60      0.66      0.63      2763\n",
      "\n"
     ]
    }
   ],
   "source": [
    "target_names = ['Covid (Class 0)', 'Normal (Class 1)']\n",
    "print(classification_report(test_labels, y_preds, target_names = target_names))"
   ]
  },
  {
   "cell_type": "markdown",
   "id": "2be5ae8e",
   "metadata": {},
   "source": [
    "### ResNet Model"
   ]
  },
  {
   "cell_type": "code",
   "execution_count": 16,
   "id": "e9c1e237",
   "metadata": {},
   "outputs": [],
   "source": [
    "from keras.applications import ResNet50"
   ]
  },
  {
   "cell_type": "code",
   "execution_count": 17,
   "id": "6cd2d194",
   "metadata": {},
   "outputs": [],
   "source": [
    "def build_transfer_learning_model():\n",
    "    \n",
    "    # return this variable\n",
    "    model = None\n",
    "\n",
    "    model_input = keras.Input(shape = (299, 299, 3))\n",
    "    \n",
    "    base_model = ResNet50(input_shape = (299, 299, 3), weights='imagenet', include_top=False)\n",
    "\n",
    "    # make the weights in the base model non-trainable\n",
    "    for layer in base_model.layers:\n",
    "      layer.trainable = False\n",
    "\n",
    "    # combine the base model with a dense layer and output layer for the 10 classes\n",
    "    # the preprocess_input transforms input data according to how the model was trained\n",
    "    \n",
    "    x = keras.applications.resnet50.preprocess_input(model_input)\n",
    "    x = base_model(x)\n",
    "    x = keras.layers.Flatten()(x)\n",
    "    x = keras.layers.Dense(256, activation = 'relu')(x)\n",
    "    x = keras.layers.Dropout(0.5)(x)\n",
    "    output = keras.layers.Dense(1, activation = 'sigmoid')(x)\n",
    "\n",
    "    model = keras.Model(model_input, output)\n",
    "\n",
    "    model.compile(loss = 'binary_crossentropy', metrics = ['accuracy'])\n",
    "    \n",
    "    return model"
   ]
  },
  {
   "cell_type": "code",
   "execution_count": 18,
   "id": "0db51ddd",
   "metadata": {},
   "outputs": [],
   "source": [
    "transfer_learning_mod = build_transfer_learning_model()"
   ]
  },
  {
   "cell_type": "code",
   "execution_count": 19,
   "id": "be995ac2",
   "metadata": {
    "scrolled": true
   },
   "outputs": [
    {
     "name": "stdout",
     "output_type": "stream",
     "text": [
      "Epoch 1/500\n",
      "130/130 [==============================] - 28s 198ms/step - loss: 7.6840 - accuracy: 0.8787 - val_loss: 0.1350 - val_accuracy: 0.9638\n",
      "Epoch 2/500\n",
      "130/130 [==============================] - 25s 192ms/step - loss: 0.4516 - accuracy: 0.9376 - val_loss: 0.2304 - val_accuracy: 0.9627\n",
      "Epoch 3/500\n",
      "130/130 [==============================] - 25s 192ms/step - loss: 0.1968 - accuracy: 0.9606 - val_loss: 0.2129 - val_accuracy: 0.9583\n",
      "Epoch 4/500\n",
      "130/130 [==============================] - 25s 191ms/step - loss: 0.1521 - accuracy: 0.9697 - val_loss: 0.1503 - val_accuracy: 0.9685\n",
      "Epoch 5/500\n",
      "130/130 [==============================] - 25s 192ms/step - loss: 0.0873 - accuracy: 0.9782 - val_loss: 0.1083 - val_accuracy: 0.9750\n",
      "Epoch 6/500\n",
      "130/130 [==============================] - 25s 192ms/step - loss: 0.1295 - accuracy: 0.9807 - val_loss: 0.1267 - val_accuracy: 0.9808\n",
      "Epoch 7/500\n",
      "130/130 [==============================] - 25s 192ms/step - loss: 0.0843 - accuracy: 0.9830 - val_loss: 0.1411 - val_accuracy: 0.9801\n",
      "Epoch 8/500\n",
      "130/130 [==============================] - 25s 192ms/step - loss: 0.0603 - accuracy: 0.9887 - val_loss: 0.3146 - val_accuracy: 0.9707\n",
      "Epoch 9/500\n",
      "130/130 [==============================] - 25s 192ms/step - loss: 0.1044 - accuracy: 0.9856 - val_loss: 0.1605 - val_accuracy: 0.9844\n",
      "Epoch 10/500\n",
      "130/130 [==============================] - 25s 192ms/step - loss: 0.0560 - accuracy: 0.9878 - val_loss: 0.1585 - val_accuracy: 0.9830\n",
      "Epoch 11/500\n",
      "130/130 [==============================] - 25s 192ms/step - loss: 0.0503 - accuracy: 0.9900 - val_loss: 0.2225 - val_accuracy: 0.9812\n",
      "Epoch 12/500\n",
      "130/130 [==============================] - 25s 192ms/step - loss: 0.0379 - accuracy: 0.9929 - val_loss: 0.1621 - val_accuracy: 0.9819\n",
      "Epoch 13/500\n",
      "130/130 [==============================] - 25s 192ms/step - loss: 0.0397 - accuracy: 0.9914 - val_loss: 0.1632 - val_accuracy: 0.9859\n",
      "Epoch 14/500\n",
      "130/130 [==============================] - 25s 192ms/step - loss: 0.0550 - accuracy: 0.9901 - val_loss: 0.2018 - val_accuracy: 0.9837\n",
      "Epoch 15/500\n",
      "130/130 [==============================] - 25s 192ms/step - loss: 0.0348 - accuracy: 0.9928 - val_loss: 0.1712 - val_accuracy: 0.9844\n"
     ]
    }
   ],
   "source": [
    "resnet_model = fit_model(transfer_learning_mod, train_data, validation_data)"
   ]
  },
  {
   "cell_type": "code",
   "execution_count": 20,
   "id": "d10a6a37",
   "metadata": {},
   "outputs": [
    {
     "name": "stdout",
     "output_type": "stream",
     "text": [
      "44/44 [==============================] - 6s 134ms/step - loss: 0.0971 - accuracy: 0.9873\n"
     ]
    }
   ],
   "source": [
    "results = resnet_model.evaluate(test_data)"
   ]
  },
  {
   "cell_type": "code",
   "execution_count": 21,
   "id": "eafa862c",
   "metadata": {},
   "outputs": [
    {
     "name": "stdout",
     "output_type": "stream",
     "text": [
      "44/44 [==============================] - 7s 132ms/step\n"
     ]
    },
    {
     "data": {
      "text/plain": [
       "<AxesSubplot: >"
      ]
     },
     "execution_count": 21,
     "metadata": {},
     "output_type": "execute_result"
    },
    {
     "data": {
      "image/png": "[encoded data removed]",
      "text/plain": [
       "<Figure size 432x288 with 2 Axes>"
      ]
     },
     "metadata": {
      "needs_background": "light"
     },
     "output_type": "display_data"
    }
   ],
   "source": [
    "# Some predictions are continuous and thus not labeled as 1,0\n",
    "predictions = np.where(resnet_model.predict(test_data) > 0.5, 1, 0)\n",
    "predictions\n",
    "\n",
    "y_preds = flatten(predictions)\n",
    "\n",
    "cm = confusion_matrix(test_labels, y_preds)\n",
    "heatmap2 = sns.heatmap(cm, annot = True, cmap='Blues', fmt='.4g', xticklabels=target_names, yticklabels=target_names)\n",
    "heatmap2.set_xlabel('Predicted Labels', fontsize=10)\n",
    "heatmap2.set_ylabel('True Labels', fontsize=10)\n",
    "heatmap2\n",
    "# heatmap2.get_figure().savefig(\"../graphs/heatmap2.png\", facecolor='w')"
   ]
  },
  {
   "cell_type": "code",
   "execution_count": 22,
   "id": "81d72d37",
   "metadata": {
    "scrolled": true
   },
   "outputs": [
    {
     "name": "stdout",
     "output_type": "stream",
     "text": [
      "                  precision    recall  f1-score   support\n",
      "\n",
      " Covid (Class 0)       0.28      0.28      0.28       724\n",
      "Normal (Class 1)       0.74      0.74      0.74      2039\n",
      "\n",
      "        accuracy                           0.62      2763\n",
      "       macro avg       0.51      0.51      0.51      2763\n",
      "    weighted avg       0.62      0.62      0.62      2763\n",
      "\n"
     ]
    }
   ],
   "source": [
    "target_names = ['Covid (Class 0)', 'Normal (Class 1)']\n",
    "print(classification_report(test_labels, y_preds, target_names = target_names))"
   ]
  },
  {
   "cell_type": "markdown",
   "id": "db0cc111",
   "metadata": {},
   "source": [
    "### ResNet with Dropout 0.25"
   ]
  },
  {
   "cell_type": "code",
   "execution_count": 23,
   "id": "449664fe",
   "metadata": {},
   "outputs": [],
   "source": [
    "def build_transfer_learning_model():\n",
    "    \n",
    "    # return this variable\n",
    "    model = None\n",
    "\n",
    "    model_input = keras.Input(shape = (299, 299, 3))\n",
    "    \n",
    "    base_model = ResNet50(input_shape = (299, 299, 3), weights='imagenet', include_top=False)\n",
    "\n",
    "    # make the weights in the base model non-trainable\n",
    "    for layer in base_model.layers:\n",
    "      layer.trainable = False\n",
    "\n",
    "    # combine the base model with a dense layer and output layer for the 10 classes\n",
    "    # the preprocess_input transforms input data according to how the model was trained\n",
    "    \n",
    "    x = keras.applications.resnet50.preprocess_input(model_input)\n",
    "    x = base_model(x)\n",
    "    x = keras.layers.Flatten()(x)\n",
    "    x = keras.layers.Dense(256, activation = 'relu')(x)\n",
    "    x = keras.layers.Dropout(0.25)(x)\n",
    "    output = keras.layers.Dense(1, activation = 'sigmoid')(x)\n",
    "\n",
    "    model = keras.Model(model_input, output)\n",
    "\n",
    "    model.compile(loss = 'binary_crossentropy', metrics = ['accuracy'])\n",
    "    \n",
    "    return model"
   ]
  },
  {
   "cell_type": "code",
   "execution_count": 24,
   "id": "e92d1a81",
   "metadata": {},
   "outputs": [],
   "source": [
    "transfer_learning_mod = build_transfer_learning_model()"
   ]
  },
  {
   "cell_type": "code",
   "execution_count": 25,
   "id": "efa5400e",
   "metadata": {
    "scrolled": true
   },
   "outputs": [
    {
     "name": "stdout",
     "output_type": "stream",
     "text": [
      "Epoch 1/500\n",
      "130/130 [==============================] - 28s 197ms/step - loss: 6.4738 - accuracy: 0.8620 - val_loss: 0.1903 - val_accuracy: 0.9413\n",
      "Epoch 2/500\n",
      "130/130 [==============================] - 25s 192ms/step - loss: 0.3359 - accuracy: 0.9300 - val_loss: 0.3002 - val_accuracy: 0.9431\n",
      "Epoch 3/500\n",
      "130/130 [==============================] - 25s 192ms/step - loss: 0.2193 - accuracy: 0.9541 - val_loss: 0.1160 - val_accuracy: 0.9652\n",
      "Epoch 4/500\n",
      "130/130 [==============================] - 25s 192ms/step - loss: 0.1595 - accuracy: 0.9656 - val_loss: 0.1090 - val_accuracy: 0.9765\n",
      "Epoch 5/500\n",
      "130/130 [==============================] - 25s 192ms/step - loss: 0.1142 - accuracy: 0.9734 - val_loss: 0.1821 - val_accuracy: 0.9547\n",
      "Epoch 6/500\n",
      "130/130 [==============================] - 25s 192ms/step - loss: 0.1017 - accuracy: 0.9771 - val_loss: 0.1049 - val_accuracy: 0.9761\n",
      "Epoch 7/500\n",
      "130/130 [==============================] - 25s 192ms/step - loss: 0.0768 - accuracy: 0.9804 - val_loss: 0.0810 - val_accuracy: 0.9823\n",
      "Epoch 8/500\n",
      "130/130 [==============================] - 25s 192ms/step - loss: 0.0685 - accuracy: 0.9836 - val_loss: 0.1184 - val_accuracy: 0.9804\n",
      "Epoch 9/500\n",
      "130/130 [==============================] - 24s 186ms/step - loss: 0.0607 - accuracy: 0.9841 - val_loss: 0.1086 - val_accuracy: 0.9848\n",
      "Epoch 10/500\n",
      "130/130 [==============================] - 24s 186ms/step - loss: 0.0577 - accuracy: 0.9872 - val_loss: 0.1233 - val_accuracy: 0.9826\n",
      "Epoch 11/500\n",
      "130/130 [==============================] - 24s 186ms/step - loss: 0.0532 - accuracy: 0.9871 - val_loss: 0.1019 - val_accuracy: 0.9841\n",
      "Epoch 12/500\n",
      "130/130 [==============================] - 24s 186ms/step - loss: 0.0401 - accuracy: 0.9896 - val_loss: 0.1209 - val_accuracy: 0.9819\n",
      "Epoch 13/500\n",
      "130/130 [==============================] - 25s 192ms/step - loss: 0.0436 - accuracy: 0.9896 - val_loss: 0.1129 - val_accuracy: 0.9804\n",
      "Epoch 14/500\n",
      "130/130 [==============================] - 25s 192ms/step - loss: 0.0427 - accuracy: 0.9903 - val_loss: 0.1337 - val_accuracy: 0.9783\n",
      "Epoch 15/500\n",
      "130/130 [==============================] - 25s 192ms/step - loss: 0.0346 - accuracy: 0.9923 - val_loss: 0.1081 - val_accuracy: 0.9812\n",
      "Epoch 16/500\n",
      "130/130 [==============================] - 26s 198ms/step - loss: 0.0378 - accuracy: 0.9924 - val_loss: 0.1345 - val_accuracy: 0.9808\n",
      "Epoch 17/500\n",
      "130/130 [==============================] - 25s 192ms/step - loss: 0.0332 - accuracy: 0.9922 - val_loss: 0.1509 - val_accuracy: 0.9779\n",
      "Finished\n"
     ]
    }
   ],
   "source": [
    "resnet25_model = fit_model(transfer_learning_mod, train_data, validation_data)\n",
    "print(\"Finished\")"
   ]
  },
  {
   "cell_type": "code",
   "execution_count": 26,
   "id": "e36856f8",
   "metadata": {},
   "outputs": [
    {
     "name": "stdout",
     "output_type": "stream",
     "text": [
      "44/44 [==============================] - 6s 134ms/step - loss: 0.1459 - accuracy: 0.9768\n"
     ]
    }
   ],
   "source": [
    "results = resnet25_model.evaluate(test_data)"
   ]
  },
  {
   "cell_type": "code",
   "execution_count": 27,
   "id": "ec29e484",
   "metadata": {},
   "outputs": [],
   "source": [
    "target_names = ['Covid (Class 0)', 'Normal (Class 1)']"
   ]
  },
  {
   "cell_type": "code",
   "execution_count": 28,
   "id": "22b798d5",
   "metadata": {},
   "outputs": [
    {
     "name": "stdout",
     "output_type": "stream",
     "text": [
      "44/44 [==============================] - 7s 131ms/step\n"
     ]
    },
    {
     "data": {
      "image/png": "[encoded data removed]",
      "text/plain": [
       "<Figure size 432x288 with 2 Axes>"
      ]
     },
     "metadata": {
      "needs_background": "light"
     },
     "output_type": "display_data"
    }
   ],
   "source": [
    "# Some predictions are continuous and thus not labeled as 1,0\n",
    "predictions = np.where(resnet25_model.predict(test_data) > 0.5, 1, 0)\n",
    "predictions\n",
    "\n",
    "y_preds = flatten(predictions)\n",
    "\n",
    "cm = confusion_matrix(test_labels, y_preds)\n",
    "heatmap3 = sns.heatmap(cm, annot = True, cmap='Blues', fmt='.4g', xticklabels=target_names, yticklabels=target_names)\n",
    "heatmap3.set_xlabel('Predicted Labels', fontsize=10)\n",
    "heatmap3.set_ylabel('True Labels', fontsize=10)\n",
    "heatmap3\n",
    "heatmap3.get_figure().savefig(\"../graphs/heatmap3.png\", facecolor='w')"
   ]
  },
  {
   "cell_type": "code",
   "execution_count": 29,
   "id": "e30acc97",
   "metadata": {
    "scrolled": false
   },
   "outputs": [
    {
     "name": "stdout",
     "output_type": "stream",
     "text": [
      "                  precision    recall  f1-score   support\n",
      "\n",
      " Covid (Class 0)       0.27      0.26      0.27       724\n",
      "Normal (Class 1)       0.74      0.76      0.75      2039\n",
      "\n",
      "        accuracy                           0.63      2763\n",
      "       macro avg       0.51      0.51      0.51      2763\n",
      "    weighted avg       0.62      0.63      0.62      2763\n",
      "\n"
     ]
    }
   ],
   "source": [
    "target_names = ['Covid (Class 0)', 'Normal (Class 1)']\n",
    "print(classification_report(test_labels, y_preds, target_names = target_names))"
   ]
  },
  {
   "cell_type": "markdown",
   "id": "355c9198",
   "metadata": {},
   "source": [
    "### Final Model"
   ]
  },
  {
   "cell_type": "code",
   "execution_count": 30,
   "id": "3dbd8987",
   "metadata": {},
   "outputs": [],
   "source": [
    "# Concatenate train and validation data\n",
    "fulltrain = train_data.concatenate(validation_data)"
   ]
  },
  {
   "cell_type": "code",
   "execution_count": 31,
   "id": "b723de92",
   "metadata": {},
   "outputs": [
    {
     "name": "stdout",
     "output_type": "stream",
     "text": [
      "174/174 [==============================] - 25s 145ms/step - loss: 0.0605 - accuracy: 0.9863\n"
     ]
    }
   ],
   "source": [
    "# Fit the model on 80% data\n",
    "final_model = resnet25_model.fit(fulltrain)"
   ]
  },
  {
   "cell_type": "code",
   "execution_count": 32,
   "id": "5377df29",
   "metadata": {
    "scrolled": true
   },
   "outputs": [
    {
     "name": "stderr",
     "output_type": "stream",
     "text": [
      "WARNING:absl:Found untraced functions such as _jit_compiled_convolution_op, _jit_compiled_convolution_op, _jit_compiled_convolution_op, _jit_compiled_convolution_op, _jit_compiled_convolution_op while saving (showing 5 of 53). These functions will not be directly callable after loading.\n"
     ]
    },
    {
     "name": "stdout",
     "output_type": "stream",
     "text": [
      "INFO:tensorflow:Assets written to: ram://76fbc9f4-de4a-4771-bd15-7bf75bccc52f/assets\n"
     ]
    },
    {
     "name": "stderr",
     "output_type": "stream",
     "text": [
      "INFO:tensorflow:Assets written to: ram://76fbc9f4-de4a-4771-bd15-7bf75bccc52f/assets\n"
     ]
    }
   ],
   "source": [
    "filename = 'final_model.pkl'\n",
    "pkl.dump(resnet25_model, open(filename, 'wb'))"
   ]
  },
  {
   "cell_type": "code",
   "execution_count": 33,
   "id": "ba5fa3ba",
   "metadata": {},
   "outputs": [
    {
     "name": "stderr",
     "output_type": "stream",
     "text": [
      "WARNING:absl:Found untraced functions such as _jit_compiled_convolution_op, _jit_compiled_convolution_op, _jit_compiled_convolution_op, _jit_compiled_convolution_op, _jit_compiled_convolution_op while saving (showing 5 of 53). These functions will not be directly callable after loading.\n"
     ]
    },
    {
     "name": "stdout",
     "output_type": "stream",
     "text": [
      "INFO:tensorflow:Assets written to: fullmodel\\assets\n"
     ]
    },
    {
     "name": "stderr",
     "output_type": "stream",
     "text": [
      "INFO:tensorflow:Assets written to: fullmodel\\assets\n"
     ]
    }
   ],
   "source": [
    "# Save full model\n",
    "resnet_model.save('fullmodel')"
   ]
  },
  {
   "cell_type": "code",
   "execution_count": 34,
   "id": "03386976",
   "metadata": {},
   "outputs": [
    {
     "name": "stdout",
     "output_type": "stream",
     "text": [
      "Model: \"model_2\"\n",
      "_________________________________________________________________\n",
      " Layer (type)                Output Shape              Param #   \n",
      "=================================================================\n",
      " input_4 (InputLayer)        [(None, 299, 299, 3)]     0         \n",
      "                                                                 \n",
      " tf.__operators__.getitem (S  (None, 299, 299, 3)      0         \n",
      " licingOpLambda)                                                 \n",
      "                                                                 \n",
      " tf.nn.bias_add (TFOpLambda)  (None, 299, 299, 3)      0         \n",
      "                                                                 \n",
      " resnet50 (Functional)       (None, 10, 10, 2048)      23587712  \n",
      "                                                                 \n",
      " flatten_2 (Flatten)         (None, 204800)            0         \n",
      "                                                                 \n",
      " dense_3 (Dense)             (None, 256)               52429056  \n",
      "                                                                 \n",
      " dropout_1 (Dropout)         (None, 256)               0         \n",
      "                                                                 \n",
      " dense_4 (Dense)             (None, 1)                 257       \n",
      "                                                                 \n",
      "=================================================================\n",
      "Total params: 76,017,025\n",
      "Trainable params: 52,429,313\n",
      "Non-trainable params: 23,587,712\n",
      "_________________________________________________________________\n"
     ]
    }
   ],
   "source": [
    "# Load model\n",
    "new_model = tf.keras.models.load_model('fullmodel')\n",
    "new_model.summary()"
   ]
  },
  {
   "cell_type": "code",
   "execution_count": 35,
   "id": "13ce3881",
   "metadata": {},
   "outputs": [
    {
     "name": "stdout",
     "output_type": "stream",
     "text": [
      "44/44 - 7s - loss: 0.0971 - accuracy: 0.9873 - 7s/epoch - 155ms/step\n",
      "Restored model, accuracy: 98.73%\n"
     ]
    }
   ],
   "source": [
    "# Evaluate the restored model\n",
    "loss, acc = new_model.evaluate(test_data, verbose=2)\n",
    "print('Restored model, accuracy: {:5.2f}%'.format(100 * acc))"
   ]
  },
  {
   "cell_type": "code",
   "execution_count": null,
   "id": "93820d2f",
   "metadata": {},
   "outputs": [],
   "source": []
  }
 ],
 "metadata": {
  "kernelspec": {
   "display_name": "tf_gpu",
   "language": "python",
   "name": "tf_gpu"
  },
  "language_info": {
   "codemirror_mode": {
    "name": "ipython",
    "version": 3
   },
   "file_extension": ".py",
   "mimetype": "text/x-python",
   "name": "python",
   "nbconvert_exporter": "python",
   "pygments_lexer": "ipython3",
   "version": "3.9.15"
  }
 },
 "nbformat": 4,
 "nbformat_minor": 5
}
