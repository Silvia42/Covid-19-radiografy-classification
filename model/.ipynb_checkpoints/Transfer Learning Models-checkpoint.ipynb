{
 "cells": [
  {
   "cell_type": "code",
   "execution_count": 3,
   "id": "78a06e8b",
   "metadata": {},
   "outputs": [],
   "source": [
    "from tensorflow import keras\n",
    "from tensorflow.keras.utils import image_dataset_from_directory\n",
    "from tensorflow.keras.layers.experimental.preprocessing import Resizing"
   ]
  },
  {
   "cell_type": "code",
   "execution_count": 14,
   "id": "10640390",
   "metadata": {},
   "outputs": [],
   "source": [
    "# function to build the conv net base\n",
    "\n",
    "\n",
    "# complete this function\n",
    "def build_base_convnet_model():\n",
    "    \"\"\"Re-create the model from the first prompt, but with a different input shape\"\"\"\n",
    "    \n",
    "    # Return this variable\n",
    "    model = None\n",
    "    \n",
    "    # YOUR CODE HERE\n",
    "    inputs = keras.Input(shape = (299, 299, 3))\n",
    "    x = keras.layers.Conv2D(filters = 32, kernel_size = 3, activation = 'relu')(inputs)\n",
    "    x = keras.layers.MaxPooling2D(pool_size = 2)(x)\n",
    "    x = keras.layers.Conv2D(filters = 64, kernel_size = 3, activation = 'relu')(x)\n",
    "    x = keras.layers.MaxPooling2D(pool_size = 2)(x)\n",
    "    x = keras.layers.Conv2D(filters = 128, kernel_size = 3, activation = 'relu')(x)\n",
    "    x = keras.layers.Flatten()(x)\n",
    "    outputs = keras.layers.Dense(1, activation = 'sigmoid')(x)\n",
    "\n",
    "    model = keras.Model(inputs, outputs)\n",
    "\n",
    "    model.compile(loss = 'binary_crossentropy', metrics = ['accuracy'])\n",
    "    \n",
    "    return model\n",
    "\n",
    "def load_image_data(base_path: str) -> tuple:\n",
    "    \"\"\"Write a function that accepts a base path that contains all of the directories, and creates training,\n",
    "    validation and test sets\"\"\"\n",
    "    \n",
    "    # Return these variables from the function\n",
    "    train_data = keras.utils.image_dataset_from_directory(f'{base_path}/train', \n",
    "                                                          image_size = (299, 299),\n",
    "                                                          batch_size = 32)\n",
    "\n",
    "    validation_data = keras.utils.image_dataset_from_directory(f'{base_path}/val', \n",
    "                                                          image_size = (299, 299),\n",
    "                                                          batch_size = 32)\n",
    "    \n",
    "    test_data = keras.utils.image_dataset_from_directory(f'{base_path}/test', \n",
    "                                                          image_size = (299, 299),\n",
    "                                                          batch_size = 32)\n",
    "    \n",
    "    # YOUR CODE HERE\n",
    "    \n",
    "    \n",
    "    return train_data, validation_data, test_data\n",
    "\n",
    "def fit_convnet_model(model, train_set, validation_set):\n",
    "    \"\"\"Fit a model with the above stated criteria\"\"\"\n",
    "    early_stopping = keras.callbacks.EarlyStopping(patience = 10)\n",
    "    \n",
    "    # YOUR CODE HERE\n",
    "    model.fit(train_set, \n",
    "              validation_data = validation_set, \n",
    "              callbacks = [early_stopping], \n",
    "              epochs = 500)\n",
    "    \n",
    "    return model"
   ]
  },
  {
   "cell_type": "code",
   "execution_count": 15,
   "id": "1dee887e",
   "metadata": {},
   "outputs": [
    {
     "name": "stdout",
     "output_type": "stream",
     "text": [
      "Found 8284 files belonging to 2 classes.\n",
      "Found 2761 files belonging to 2 classes.\n",
      "Found 2763 files belonging to 2 classes.\n"
     ]
    }
   ],
   "source": [
    "# run this cell to create your base convolution model and training, validation & test sets\n",
    "base_mod = build_base_convnet_model()\n",
    "train_data, validation_data, test_data = load_image_data('../data/COVID-19_Radiography_Dataset/TwoClasses/split')"
   ]
  },
  {
   "cell_type": "code",
   "execution_count": null,
   "id": "1f09b370",
   "metadata": {},
   "outputs": [
    {
     "name": "stdout",
     "output_type": "stream",
     "text": [
      "Epoch 1/500\n",
      "259/259 [==============================] - 499s 2s/step - loss: 26.1208 - accuracy: 0.7723 - val_loss: 0.4023 - val_accuracy: 0.8627\n",
      "Epoch 2/500\n",
      "156/259 [=================>............] - ETA: 3:10 - loss: 6.8876 - accuracy: 0.8438"
     ]
    }
   ],
   "source": [
    "fitted_model = fit_convnet_model(base_mod, train_data, validation_data)"
   ]
  },
  {
   "cell_type": "code",
   "execution_count": null,
   "id": "2816400e",
   "metadata": {},
   "outputs": [],
   "source": []
  },
  {
   "cell_type": "code",
   "execution_count": null,
   "id": "8ce4a8a0",
   "metadata": {},
   "outputs": [],
   "source": []
  }
 ],
 "metadata": {
  "kernelspec": {
   "display_name": "tf_gpu",
   "language": "python",
   "name": "tf_gpu"
  },
  "language_info": {
   "codemirror_mode": {
    "name": "ipython",
    "version": 3
   },
   "file_extension": ".py",
   "mimetype": "text/x-python",
   "name": "python",
   "nbconvert_exporter": "python",
   "pygments_lexer": "ipython3",
   "version": "3.9.13"
  }
 },
 "nbformat": 4,
 "nbformat_minor": 5
}
